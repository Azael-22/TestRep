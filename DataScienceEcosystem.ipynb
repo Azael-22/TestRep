{
  "metadata": {
    "kernelspec": {
      "name": "xpython",
      "display_name": "Python 3.13 (XPython)",
      "language": "python"
    },
    "language_info": {
      "file_extension": ".py",
      "mimetype": "text/x-python",
      "name": "python",
      "version": "3.13.1"
    }
  },
  "nbformat_minor": 5,
  "nbformat": 4,
  "cells": [
    {
      "id": "3b5296e1-d355-47ad-8905-7fa30b572934",
      "cell_type": "markdown",
      "source": "# DATA SCIENCE TOOLS AND ECOSYSTEMS",
      "metadata": {}
    },
    {
      "id": "dbcc1d61-e006-4644-bafe-63a3a8628310",
      "cell_type": "markdown",
      "source": "En este cuaderno, se resumen las herramientas y ecosistemas de ciencia de datos.",
      "metadata": {}
    },
    {
      "id": "4fcc933c-c793-45f1-9a49-6eb291f16e4a",
      "cell_type": "markdown",
      "source": "Algunos de los lenguajes populares que utilizan los científicos de datos son:\n1. Python\n2. SQL\n3. R\n4. JAVASCRIPT",
      "metadata": {}
    },
    {
      "id": "e0972cfb-bf36-4182-8eea-54d6cd812bd2",
      "cell_type": "markdown",
      "source": "Algunas de las bibliotecas comúnmente utilizadas por los científicos de datos incluyen:\n1. Pandas\n2. Numpy\n3. Matplotlib\n4. Keras\n5. TensorFlow",
      "metadata": {}
    },
    {
      "id": "1c1e7915-4f73-41ef-a24f-d21dff5d0fc1",
      "cell_type": "markdown",
      "source": "|Herramientas de ciencia de datos.|\n|---------------------------------|\n|Hadoop|\n|Apache Spark|\n|JupyterLab|",
      "metadata": {}
    },
    {
      "id": "073617cb-ad86-46f6-b479-647e74ea4f3e",
      "cell_type": "markdown",
      "source": "### A continuación, se presentan algunos ejemplos de evaluación de expresiones aritméticas en Python.\n5+3\n\n8-7\n\n6*2",
      "metadata": {}
    },
    {
      "id": "c5d5299e-c9ad-4cf2-8f9d-5d28f1d068dd",
      "cell_type": "code",
      "source": "#Esta es una expresión aritmética simple para multiplicar y luego sumar enteros\n(3*4)+5",
      "metadata": {
        "trusted": true
      },
      "outputs": [
        {
          "execution_count": 5,
          "output_type": "execute_result",
          "data": {
            "text/plain": "17"
          },
          "metadata": {}
        }
      ],
      "execution_count": 5
    },
    {
      "id": "6aff1964-c513-431e-9e18-f813c88ecc03",
      "cell_type": "code",
      "source": "#Esto convertirá 200 minutos a horas dividiendo por 60\n200/60",
      "metadata": {
        "trusted": true
      },
      "outputs": [
        {
          "execution_count": 6,
          "output_type": "execute_result",
          "data": {
            "text/plain": "3.3333333333333335"
          },
          "metadata": {}
        }
      ],
      "execution_count": 6
    },
    {
      "id": "c06f4e6d-2c16-4f16-84b8-c65c4fe23e61",
      "cell_type": "markdown",
      "source": "**OBJETIVOS:**\n* Listar bibliotecas utilizadas en la ciencia de datos.\n* Agregar un titulo utilizando un encabezado H1.\n* Agregar una operación aritmetica.\n* Listar lenguajes de programación utilizados en la ciencia de datos.",
      "metadata": {}
    },
    {
      "id": "a0c9c0e4-5659-472e-a04f-7e5f15287a03",
      "cell_type": "markdown",
      "source": "## AUTOR\nAzael Adonay Lorenzo Silva",
      "metadata": {}
    },
    {
      "id": "800580c5-ece6-4dd0-83fd-bd2b1040e56c",
      "cell_type": "code",
      "source": "",
      "metadata": {
        "trusted": true
      },
      "outputs": [],
      "execution_count": null
    }
  ]
}